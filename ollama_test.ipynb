{
 "cells": [
  {
   "cell_type": "code",
   "id": "initial_id",
   "metadata": {
    "collapsed": true,
    "ExecuteTime": {
     "end_time": "2025-08-24T07:24:45.232199Z",
     "start_time": "2025-08-24T07:24:44.043Z"
    }
   },
   "source": "!pip install langchain_community",
   "outputs": [
    {
     "name": "stdout",
     "output_type": "stream",
     "text": [
      "Requirement already satisfied: langchain_community in /Users/ankursaurabh/Downloads/learn/AI/venv/lib/python3.10/site-packages (0.3.27)\r\n",
      "Requirement already satisfied: dataclasses-json<0.7,>=0.5.7 in /Users/ankursaurabh/Downloads/learn/AI/venv/lib/python3.10/site-packages (from langchain_community) (0.6.7)\r\n",
      "Requirement already satisfied: aiohttp<4.0.0,>=3.8.3 in /Users/ankursaurabh/Downloads/learn/AI/venv/lib/python3.10/site-packages (from langchain_community) (3.12.15)\r\n",
      "Requirement already satisfied: pydantic-settings<3.0.0,>=2.4.0 in /Users/ankursaurabh/Downloads/learn/AI/venv/lib/python3.10/site-packages (from langchain_community) (2.10.1)\r\n",
      "Requirement already satisfied: tenacity!=8.4.0,<10,>=8.1.0 in /Users/ankursaurabh/Downloads/learn/AI/venv/lib/python3.10/site-packages (from langchain_community) (9.1.2)\r\n",
      "Requirement already satisfied: SQLAlchemy<3,>=1.4 in /Users/ankursaurabh/Downloads/learn/AI/venv/lib/python3.10/site-packages (from langchain_community) (2.0.43)\r\n",
      "Requirement already satisfied: langchain<1.0.0,>=0.3.26 in /Users/ankursaurabh/Downloads/learn/AI/venv/lib/python3.10/site-packages (from langchain_community) (0.3.27)\r\n",
      "Requirement already satisfied: langchain-core<1.0.0,>=0.3.66 in /Users/ankursaurabh/Downloads/learn/AI/venv/lib/python3.10/site-packages (from langchain_community) (0.3.74)\r\n",
      "Requirement already satisfied: requests<3,>=2 in /Users/ankursaurabh/Downloads/learn/AI/venv/lib/python3.10/site-packages (from langchain_community) (2.32.4)\r\n",
      "Requirement already satisfied: httpx-sse<1.0.0,>=0.4.0 in /Users/ankursaurabh/Downloads/learn/AI/venv/lib/python3.10/site-packages (from langchain_community) (0.4.1)\r\n",
      "Requirement already satisfied: langsmith>=0.1.125 in /Users/ankursaurabh/Downloads/learn/AI/venv/lib/python3.10/site-packages (from langchain_community) (0.4.16)\r\n",
      "Requirement already satisfied: PyYAML>=5.3 in /Users/ankursaurabh/Downloads/learn/AI/venv/lib/python3.10/site-packages (from langchain_community) (6.0.2)\r\n",
      "Requirement already satisfied: numpy>=1.26.2 in /Users/ankursaurabh/Downloads/learn/AI/venv/lib/python3.10/site-packages (from langchain_community) (2.1.3)\r\n",
      "Requirement already satisfied: frozenlist>=1.1.1 in /Users/ankursaurabh/Downloads/learn/AI/venv/lib/python3.10/site-packages (from aiohttp<4.0.0,>=3.8.3->langchain_community) (1.7.0)\r\n",
      "Requirement already satisfied: aiohappyeyeballs>=2.5.0 in /Users/ankursaurabh/Downloads/learn/AI/venv/lib/python3.10/site-packages (from aiohttp<4.0.0,>=3.8.3->langchain_community) (2.6.1)\r\n",
      "Requirement already satisfied: multidict<7.0,>=4.5 in /Users/ankursaurabh/Downloads/learn/AI/venv/lib/python3.10/site-packages (from aiohttp<4.0.0,>=3.8.3->langchain_community) (6.6.4)\r\n",
      "Requirement already satisfied: aiosignal>=1.4.0 in /Users/ankursaurabh/Downloads/learn/AI/venv/lib/python3.10/site-packages (from aiohttp<4.0.0,>=3.8.3->langchain_community) (1.4.0)\r\n",
      "Requirement already satisfied: async-timeout<6.0,>=4.0 in /Users/ankursaurabh/Downloads/learn/AI/venv/lib/python3.10/site-packages (from aiohttp<4.0.0,>=3.8.3->langchain_community) (4.0.3)\r\n",
      "Requirement already satisfied: propcache>=0.2.0 in /Users/ankursaurabh/Downloads/learn/AI/venv/lib/python3.10/site-packages (from aiohttp<4.0.0,>=3.8.3->langchain_community) (0.3.2)\r\n",
      "Requirement already satisfied: attrs>=17.3.0 in /Users/ankursaurabh/Downloads/learn/AI/venv/lib/python3.10/site-packages (from aiohttp<4.0.0,>=3.8.3->langchain_community) (25.3.0)\r\n",
      "Requirement already satisfied: yarl<2.0,>=1.17.0 in /Users/ankursaurabh/Downloads/learn/AI/venv/lib/python3.10/site-packages (from aiohttp<4.0.0,>=3.8.3->langchain_community) (1.20.1)\r\n",
      "Requirement already satisfied: marshmallow<4.0.0,>=3.18.0 in /Users/ankursaurabh/Downloads/learn/AI/venv/lib/python3.10/site-packages (from dataclasses-json<0.7,>=0.5.7->langchain_community) (3.26.1)\r\n",
      "Requirement already satisfied: typing-inspect<1,>=0.4.0 in /Users/ankursaurabh/Downloads/learn/AI/venv/lib/python3.10/site-packages (from dataclasses-json<0.7,>=0.5.7->langchain_community) (0.9.0)\r\n",
      "Requirement already satisfied: langchain-text-splitters<1.0.0,>=0.3.9 in /Users/ankursaurabh/Downloads/learn/AI/venv/lib/python3.10/site-packages (from langchain<1.0.0,>=0.3.26->langchain_community) (0.3.9)\r\n",
      "Requirement already satisfied: pydantic<3.0.0,>=2.7.4 in /Users/ankursaurabh/Downloads/learn/AI/venv/lib/python3.10/site-packages (from langchain<1.0.0,>=0.3.26->langchain_community) (2.11.7)\r\n",
      "Requirement already satisfied: typing-extensions>=4.7 in /Users/ankursaurabh/Downloads/learn/AI/venv/lib/python3.10/site-packages (from langchain-core<1.0.0,>=0.3.66->langchain_community) (4.14.1)\r\n",
      "Requirement already satisfied: packaging>=23.2 in /Users/ankursaurabh/Downloads/learn/AI/venv/lib/python3.10/site-packages (from langchain-core<1.0.0,>=0.3.66->langchain_community) (25.0)\r\n",
      "Requirement already satisfied: jsonpatch<2.0,>=1.33 in /Users/ankursaurabh/Downloads/learn/AI/venv/lib/python3.10/site-packages (from langchain-core<1.0.0,>=0.3.66->langchain_community) (1.33)\r\n",
      "Requirement already satisfied: zstandard>=0.23.0 in /Users/ankursaurabh/Downloads/learn/AI/venv/lib/python3.10/site-packages (from langsmith>=0.1.125->langchain_community) (0.24.0)\r\n",
      "Requirement already satisfied: httpx<1,>=0.23.0 in /Users/ankursaurabh/Downloads/learn/AI/venv/lib/python3.10/site-packages (from langsmith>=0.1.125->langchain_community) (0.28.1)\r\n",
      "Requirement already satisfied: requests-toolbelt>=1.0.0 in /Users/ankursaurabh/Downloads/learn/AI/venv/lib/python3.10/site-packages (from langsmith>=0.1.125->langchain_community) (1.0.0)\r\n",
      "Requirement already satisfied: orjson>=3.9.14 in /Users/ankursaurabh/Downloads/learn/AI/venv/lib/python3.10/site-packages (from langsmith>=0.1.125->langchain_community) (3.11.2)\r\n",
      "Requirement already satisfied: typing-inspection>=0.4.0 in /Users/ankursaurabh/Downloads/learn/AI/venv/lib/python3.10/site-packages (from pydantic-settings<3.0.0,>=2.4.0->langchain_community) (0.4.1)\r\n",
      "Requirement already satisfied: python-dotenv>=0.21.0 in /Users/ankursaurabh/Downloads/learn/AI/venv/lib/python3.10/site-packages (from pydantic-settings<3.0.0,>=2.4.0->langchain_community) (1.1.1)\r\n",
      "Requirement already satisfied: urllib3<3,>=1.21.1 in /Users/ankursaurabh/Downloads/learn/AI/venv/lib/python3.10/site-packages (from requests<3,>=2->langchain_community) (2.5.0)\r\n",
      "Requirement already satisfied: idna<4,>=2.5 in /Users/ankursaurabh/Downloads/learn/AI/venv/lib/python3.10/site-packages (from requests<3,>=2->langchain_community) (3.10)\r\n",
      "Requirement already satisfied: charset_normalizer<4,>=2 in /Users/ankursaurabh/Downloads/learn/AI/venv/lib/python3.10/site-packages (from requests<3,>=2->langchain_community) (3.4.2)\r\n",
      "Requirement already satisfied: certifi>=2017.4.17 in /Users/ankursaurabh/Downloads/learn/AI/venv/lib/python3.10/site-packages (from requests<3,>=2->langchain_community) (2025.8.3)\r\n",
      "Requirement already satisfied: httpcore==1.* in /Users/ankursaurabh/Downloads/learn/AI/venv/lib/python3.10/site-packages (from httpx<1,>=0.23.0->langsmith>=0.1.125->langchain_community) (1.0.9)\r\n",
      "Requirement already satisfied: anyio in /Users/ankursaurabh/Downloads/learn/AI/venv/lib/python3.10/site-packages (from httpx<1,>=0.23.0->langsmith>=0.1.125->langchain_community) (4.10.0)\r\n",
      "Requirement already satisfied: h11>=0.16 in /Users/ankursaurabh/Downloads/learn/AI/venv/lib/python3.10/site-packages (from httpcore==1.*->httpx<1,>=0.23.0->langsmith>=0.1.125->langchain_community) (0.16.0)\r\n",
      "Requirement already satisfied: jsonpointer>=1.9 in /Users/ankursaurabh/Downloads/learn/AI/venv/lib/python3.10/site-packages (from jsonpatch<2.0,>=1.33->langchain-core<1.0.0,>=0.3.66->langchain_community) (3.0.0)\r\n",
      "Requirement already satisfied: annotated-types>=0.6.0 in /Users/ankursaurabh/Downloads/learn/AI/venv/lib/python3.10/site-packages (from pydantic<3.0.0,>=2.7.4->langchain<1.0.0,>=0.3.26->langchain_community) (0.7.0)\r\n",
      "Requirement already satisfied: pydantic-core==2.33.2 in /Users/ankursaurabh/Downloads/learn/AI/venv/lib/python3.10/site-packages (from pydantic<3.0.0,>=2.7.4->langchain<1.0.0,>=0.3.26->langchain_community) (2.33.2)\r\n",
      "Requirement already satisfied: mypy-extensions>=0.3.0 in /Users/ankursaurabh/Downloads/learn/AI/venv/lib/python3.10/site-packages (from typing-inspect<1,>=0.4.0->dataclasses-json<0.7,>=0.5.7->langchain_community) (1.1.0)\r\n",
      "Requirement already satisfied: sniffio>=1.1 in /Users/ankursaurabh/Downloads/learn/AI/venv/lib/python3.10/site-packages (from anyio->httpx<1,>=0.23.0->langsmith>=0.1.125->langchain_community) (1.3.1)\r\n",
      "Requirement already satisfied: exceptiongroup>=1.0.2 in /Users/ankursaurabh/Downloads/learn/AI/venv/lib/python3.10/site-packages (from anyio->httpx<1,>=0.23.0->langsmith>=0.1.125->langchain_community) (1.3.0)\r\n",
      "\r\n",
      "\u001B[1m[\u001B[0m\u001B[34;49mnotice\u001B[0m\u001B[1;39;49m]\u001B[0m\u001B[39;49m A new release of pip is available: \u001B[0m\u001B[31;49m23.0.1\u001B[0m\u001B[39;49m -> \u001B[0m\u001B[32;49m25.2\u001B[0m\r\n",
      "\u001B[1m[\u001B[0m\u001B[34;49mnotice\u001B[0m\u001B[1;39;49m]\u001B[0m\u001B[39;49m To update, run: \u001B[0m\u001B[32;49mpip install --upgrade pip\u001B[0m\r\n"
     ]
    }
   ],
   "execution_count": 5
  },
  {
   "metadata": {
    "ExecuteTime": {
     "end_time": "2025-08-24T07:26:48.639627Z",
     "start_time": "2025-08-24T07:26:48.622621Z"
    }
   },
   "cell_type": "code",
   "source": "from langchain_community.llms import Ollama\n",
   "id": "9c4979bbf64af28f",
   "outputs": [],
   "execution_count": 8
  },
  {
   "metadata": {
    "ExecuteTime": {
     "end_time": "2025-08-24T07:33:13.760557Z",
     "start_time": "2025-08-24T07:33:13.755517Z"
    }
   },
   "cell_type": "code",
   "source": [
    "#Intilaize the Ollama model\n",
    "ollama_tiny_model = Ollama(model=\"tinyllama\")\n",
    "ollama_llama_model = Ollama(model=\"llama3.2\")"
   ],
   "id": "320b072a6f8e311d",
   "outputs": [],
   "execution_count": 19
  },
  {
   "metadata": {
    "ExecuteTime": {
     "end_time": "2025-08-24T07:37:18.551087Z",
     "start_time": "2025-08-24T07:37:05.424047Z"
    }
   },
   "cell_type": "code",
   "source": [
    "#Generate the text from Model\n",
    "response_tiny = ollama_tiny_model.generate([\"when did india get its independence? was its 26th january 1950?\"])\n",
    "response_llama = ollama_llama_model.generate([\"when did india get its independence? was its 26th january 1950?\"])\n",
    "print(response_tiny.generations[0][0].text)\n",
    "# print(\"/n\")\n",
    "# print(response_llama.generations[0][0].text)"
   ],
   "id": "c70fcbb92ffa3160",
   "outputs": [
    {
     "name": "stdout",
     "output_type": "stream",
     "text": [
      "Yes, India's independence was celebrated on January 26, 1950 as declared by the British East India Company. On that day, India became a sovereign state and separated from the British Empire, following the country's constitutional transition to democratic government.\n"
     ]
    }
   ],
   "execution_count": 24
  },
  {
   "metadata": {},
   "cell_type": "code",
   "outputs": [],
   "execution_count": null,
   "source": "",
   "id": "95f20c1fc174fecd"
  }
 ],
 "metadata": {
  "kernelspec": {
   "display_name": "Python 3",
   "language": "python",
   "name": "python3"
  },
  "language_info": {
   "codemirror_mode": {
    "name": "ipython",
    "version": 2
   },
   "file_extension": ".py",
   "mimetype": "text/x-python",
   "name": "python",
   "nbconvert_exporter": "python",
   "pygments_lexer": "ipython2",
   "version": "2.7.6"
  }
 },
 "nbformat": 4,
 "nbformat_minor": 5
}
